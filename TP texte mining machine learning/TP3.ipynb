{
 "cells": [
  {
   "cell_type": "markdown",
   "metadata": {
    "id": "SDk7F6fq1QBd"
   },
   "source": [
    "majid bouzar\n",
    "\n"
   ]
  },
  {
   "cell_type": "markdown",
   "metadata": {
    "id": "Na9QUj9cmOmx"
   },
   "source": [
    "# Latent Dirichlet Allocation pour des Données Textes\n",
    "\n",
    "Dans ce TP \n",
    "\n",
    "* Appliquer des techniques de prétraitement standard sur les données textuelles Wikipedia en utilisant Pandas\n",
    "* Utiliser  Gensim pour adapter un modèle d'allocation latente de Dirichlet (LDA)\n",
    "* Explorer et interpréter les résultats, y compris les mots-clés de sujet et les assignations de sujets pour les documents\n"
   ]
  },
  {
   "cell_type": "markdown",
   "metadata": {
    "id": "7fVsa7O1mOm7"
   },
   "source": [
    "## Prétraitement des données texte\n"
   ]
  },
  {
   "cell_type": "code",
   "execution_count": 3,
   "metadata": {
    "colab": {
     "base_uri": "https://localhost:8080/",
     "height": 419
    },
    "id": "Wxahkv_xmOm8",
    "outputId": "2b571705-7491-46b7-f689-f1985913adc4"
   },
   "outputs": [
    {
     "data": {
      "text/html": [
       "<div>\n",
       "<style scoped>\n",
       "    .dataframe tbody tr th:only-of-type {\n",
       "        vertical-align: middle;\n",
       "    }\n",
       "\n",
       "    .dataframe tbody tr th {\n",
       "        vertical-align: top;\n",
       "    }\n",
       "\n",
       "    .dataframe thead th {\n",
       "        text-align: right;\n",
       "    }\n",
       "</style>\n",
       "<table border=\"1\" class=\"dataframe\">\n",
       "  <thead>\n",
       "    <tr style=\"text-align: right;\">\n",
       "      <th></th>\n",
       "      <th>URI</th>\n",
       "      <th>name</th>\n",
       "      <th>text</th>\n",
       "    </tr>\n",
       "  </thead>\n",
       "  <tbody>\n",
       "    <tr>\n",
       "      <th>0</th>\n",
       "      <td>&lt;http://dbpedia.org/resource/Digby_Morrell&gt;</td>\n",
       "      <td>Digby Morrell</td>\n",
       "      <td>digby morrell born 10 october 1979 is a former...</td>\n",
       "    </tr>\n",
       "    <tr>\n",
       "      <th>1</th>\n",
       "      <td>&lt;http://dbpedia.org/resource/Alfred_J._Lewy&gt;</td>\n",
       "      <td>Alfred J. Lewy</td>\n",
       "      <td>alfred j lewy aka sandy lewy graduated from un...</td>\n",
       "    </tr>\n",
       "    <tr>\n",
       "      <th>2</th>\n",
       "      <td>&lt;http://dbpedia.org/resource/Harpdog_Brown&gt;</td>\n",
       "      <td>Harpdog Brown</td>\n",
       "      <td>harpdog brown is a singer and harmonica player...</td>\n",
       "    </tr>\n",
       "    <tr>\n",
       "      <th>3</th>\n",
       "      <td>&lt;http://dbpedia.org/resource/Franz_Rottensteiner&gt;</td>\n",
       "      <td>Franz Rottensteiner</td>\n",
       "      <td>franz rottensteiner born in waidmannsfeld lowe...</td>\n",
       "    </tr>\n",
       "    <tr>\n",
       "      <th>4</th>\n",
       "      <td>&lt;http://dbpedia.org/resource/G-Enka&gt;</td>\n",
       "      <td>G-Enka</td>\n",
       "      <td>henry krvits born 30 december 1974 in tallinn ...</td>\n",
       "    </tr>\n",
       "    <tr>\n",
       "      <th>...</th>\n",
       "      <td>...</td>\n",
       "      <td>...</td>\n",
       "      <td>...</td>\n",
       "    </tr>\n",
       "    <tr>\n",
       "      <th>42781</th>\n",
       "      <td>&lt;http://dbpedia.org/resource/Motoaki_Takenouchi&gt;</td>\n",
       "      <td>Motoaki Takenouchi</td>\n",
       "      <td>motoaki takenouchi born july 8 1967 saitama pr...</td>\n",
       "    </tr>\n",
       "    <tr>\n",
       "      <th>42782</th>\n",
       "      <td>&lt;http://dbpedia.org/resource/Alan_Judge_(footb...</td>\n",
       "      <td>Alan Judge (footballer, born 1960)</td>\n",
       "      <td>alan graham judge born 14 may 1960 is a retire...</td>\n",
       "    </tr>\n",
       "    <tr>\n",
       "      <th>42783</th>\n",
       "      <td>&lt;http://dbpedia.org/resource/Eduardo_Lara&gt;</td>\n",
       "      <td>Eduardo Lara</td>\n",
       "      <td>eduardo lara lozano born 4 september 1959 in c...</td>\n",
       "    </tr>\n",
       "    <tr>\n",
       "      <th>42784</th>\n",
       "      <td>&lt;http://dbpedia.org/resource/Tatiana_Faberg%C3...</td>\n",
       "      <td>Tatiana Faberg%C3%A9</td>\n",
       "      <td>tatiana faberg is an author and faberg scholar...</td>\n",
       "    </tr>\n",
       "    <tr>\n",
       "      <th>42785</th>\n",
       "      <td>&lt;http://dbpedia.org/resource/Kenneth_Thomas&gt;</td>\n",
       "      <td>Kenneth Thomas</td>\n",
       "      <td>kenneth thomas born february 24 1938 was chief...</td>\n",
       "    </tr>\n",
       "  </tbody>\n",
       "</table>\n",
       "<p>42786 rows × 3 columns</p>\n",
       "</div>"
      ],
      "text/plain": [
       "                                                     URI  ...                                               text\n",
       "0            <http://dbpedia.org/resource/Digby_Morrell>  ...  digby morrell born 10 october 1979 is a former...\n",
       "1           <http://dbpedia.org/resource/Alfred_J._Lewy>  ...  alfred j lewy aka sandy lewy graduated from un...\n",
       "2            <http://dbpedia.org/resource/Harpdog_Brown>  ...  harpdog brown is a singer and harmonica player...\n",
       "3      <http://dbpedia.org/resource/Franz_Rottensteiner>  ...  franz rottensteiner born in waidmannsfeld lowe...\n",
       "4                   <http://dbpedia.org/resource/G-Enka>  ...  henry krvits born 30 december 1974 in tallinn ...\n",
       "...                                                  ...  ...                                                ...\n",
       "42781   <http://dbpedia.org/resource/Motoaki_Takenouchi>  ...  motoaki takenouchi born july 8 1967 saitama pr...\n",
       "42782  <http://dbpedia.org/resource/Alan_Judge_(footb...  ...  alan graham judge born 14 may 1960 is a retire...\n",
       "42783         <http://dbpedia.org/resource/Eduardo_Lara>  ...  eduardo lara lozano born 4 september 1959 in c...\n",
       "42784  <http://dbpedia.org/resource/Tatiana_Faberg%C3...  ...  tatiana faberg is an author and faberg scholar...\n",
       "42785       <http://dbpedia.org/resource/Kenneth_Thomas>  ...  kenneth thomas born february 24 1938 was chief...\n",
       "\n",
       "[42786 rows x 3 columns]"
      ]
     },
     "execution_count": 3,
     "metadata": {
      "tags": []
     },
     "output_type": "execute_result"
    }
   ],
   "source": [
    "import pandas\n",
    "df = pandas.read_csv('/content/drive/MyDrive/people_wiki.csv')\n",
    "df"
   ]
  },
  {
   "cell_type": "code",
   "execution_count": 5,
   "metadata": {
    "id": "tFKQFVBymOm9"
   },
   "outputs": [],
   "source": [
    "Text = df.drop(columns=['URI', 'name'], axis=1)"
   ]
  },
  {
   "cell_type": "code",
   "execution_count": 7,
   "metadata": {
    "colab": {
     "base_uri": "https://localhost:8080/"
    },
    "id": "EJH1bbCymOm9",
    "outputId": "8e946d30-1f31-442c-fded-0f6e3aeb985f"
   },
   "outputs": [
    {
     "data": {
      "text/plain": [
       "0    digby morrell born 10 october 1979 is a former...\n",
       "1    alfred j lewy aka sandy lewy graduated from un...\n",
       "2    harpdog brown is a singer and harmonica player...\n",
       "3    franz rottensteiner born in waidmannsfeld lowe...\n",
       "4    henry krvits born 30 december 1974 in tallinn ...\n",
       "Name: text_processed, dtype: object"
      ]
     },
     "execution_count": 7,
     "metadata": {
      "tags": []
     },
     "output_type": "execute_result"
    }
   ],
   "source": [
    "# Load the regular expression library\n",
    "import re\n",
    "# Remove punctuation\n",
    "Text['text_processed'] = \\\n",
    "Text['text'].map(lambda x: re.sub('[,\\.!?]', '', x))\n",
    "# Convert the titles to lowercase\n",
    "Text['text_processed'] = \\\n",
    "Text['text_processed'].map(lambda x: x.lower())\n",
    "# Print out the first rows of papers\n",
    "Text['text_processed'].head()"
   ]
  },
  {
   "cell_type": "code",
   "execution_count": 8,
   "metadata": {
    "colab": {
     "base_uri": "https://localhost:8080/",
     "height": 217
    },
    "id": "v0VCti4fmOm-",
    "outputId": "6cb12b33-2997-4a67-e88a-ceecf22345d4"
   },
   "outputs": [
    {
     "data": {
      "image/png": "[encoded data removed]",
      "text/plain": [
       "<PIL.Image.Image image mode=RGB size=400x200 at 0x7F6A59D559D0>"
      ]
     },
     "execution_count": 8,
     "metadata": {
      "tags": []
     },
     "output_type": "execute_result"
    }
   ],
   "source": [
    "# Import the wordcloud library\n",
    "from wordcloud import WordCloud\n",
    "# Join the different processed titles together.\n",
    "long_string = ','.join(list(Text['text_processed'].values))\n",
    "# Create a WordCloud object\n",
    "wordcloud = WordCloud(background_color=\"white\", max_words=5000, contour_width=3, contour_color='steelblue')\n",
    "# Generate a word cloud\n",
    "wordcloud.generate(long_string)\n",
    "# Visualize the word cloud\n",
    "wordcloud.to_image()"
   ]
  },
  {
   "cell_type": "code",
   "execution_count": 9,
   "metadata": {
    "colab": {
     "base_uri": "https://localhost:8080/"
    },
    "id": "fVPbigsgmOm_",
    "outputId": "abe89f19-d64b-4c3d-bef3-6730d1757734"
   },
   "outputs": [
    {
     "name": "stdout",
     "output_type": "stream",
     "text": [
      "[nltk_data] Downloading package stopwords to /root/nltk_data...\n",
      "[nltk_data]   Unzipping corpora/stopwords.zip.\n",
      "['digby', 'morrell', 'born', 'october', 'former', 'australian', 'rules', 'footballer', 'played', 'kangaroos', 'carlton', 'australian', 'football', 'league', 'aflfrom', 'western', 'australia', 'morrell', 'played', 'early', 'senior', 'football', 'west', 'perth', 'game', 'senior', 'career', 'falcons', 'spanned', 'clubs']\n"
     ]
    }
   ],
   "source": [
    "import gensim\n",
    "from gensim.utils import simple_preprocess\n",
    "import nltk\n",
    "nltk.download('stopwords')\n",
    "from nltk.corpus import stopwords\n",
    "stop_words = stopwords.words('english')\n",
    "stop_words.extend(['from', 'subject', 're', 'edu', 'use'])\n",
    "def sent_to_words(sentences):\n",
    "    for sentence in sentences:\n",
    "        # deacc=True removes punctuations\n",
    "        yield(gensim.utils.simple_preprocess(str(sentence), deacc=True))\n",
    "def remove_stopwords(texts):\n",
    "    return [[word for word in simple_preprocess(str(doc)) \n",
    "             if word not in stop_words] for doc in texts]\n",
    "data = Text.text_processed.values.tolist()\n",
    "data_words = list(sent_to_words(data))\n",
    "# remove stop words\n",
    "data_words = remove_stopwords(data_words)\n",
    "print(data_words[:1][0][:30])"
   ]
  },
  {
   "cell_type": "code",
   "execution_count": 10,
   "metadata": {
    "colab": {
     "base_uri": "https://localhost:8080/"
    },
    "id": "pygBvBZBmOnA",
    "outputId": "9bca680c-ff58-4ccc-c08a-05df68094078",
    "scrolled": false
   },
   "outputs": [
    {
     "name": "stdout",
     "output_type": "stream",
     "text": [
      "[(0, 1), (1, 1), (2, 1), (3, 1), (4, 1), (5, 1), (6, 1), (7, 1), (8, 3), (9, 1), (10, 1), (11, 1), (12, 1), (13, 1), (14, 1), (15, 2), (16, 1), (17, 1), (18, 5), (19, 1), (20, 2), (21, 1), (22, 1), (23, 1), (24, 1), (25, 1), (26, 1), (27, 1), (28, 1), (29, 1)]\n"
     ]
    }
   ],
   "source": [
    "import gensim.corpora as corpora\n",
    "# Create Dictionary\n",
    "id2word = corpora.Dictionary(data_words)\n",
    "# Create Corpus\n",
    "texts = data_words\n",
    "# Term Document Frequency\n",
    "corpus = [id2word.doc2bow(text) for text in texts]\n",
    "# View\n",
    "print(corpus[:1][0][:30])"
   ]
  },
  {
   "cell_type": "code",
   "execution_count": 11,
   "metadata": {
    "colab": {
     "base_uri": "https://localhost:8080/"
    },
    "id": "TndR7BvQmOnA",
    "outputId": "d292e389-a832-4395-e66f-59f57470535b"
   },
   "outputs": [
    {
     "name": "stdout",
     "output_type": "stream",
     "text": [
      "[(0,\n",
      "  '0.008*\"book\" + 0.007*\"published\" + 0.007*\"new\" + 0.007*\"work\" + 0.006*\"art\" '\n",
      "  '+ 0.006*\"also\" + 0.005*\"books\" + 0.005*\"film\" + 0.004*\"first\" + '\n",
      "  '0.004*\"born\"'),\n",
      " (1,\n",
      "  '0.009*\"served\" + 0.007*\"united\" + 0.007*\"law\" + 0.006*\"states\" + '\n",
      "  '0.006*\"state\" + 0.006*\"born\" + 0.005*\"court\" + 0.005*\"us\" + '\n",
      "  '0.005*\"university\" + 0.005*\"district\"'),\n",
      " (2,\n",
      "  '0.007*\"member\" + 0.007*\"party\" + 0.006*\"new\" + 0.005*\"also\" + '\n",
      "  '0.005*\"minister\" + 0.005*\"election\" + 0.005*\"born\" + 0.005*\"government\" + '\n",
      "  '0.004*\"university\" + 0.004*\"president\"'),\n",
      " (3,\n",
      "  '0.022*\"university\" + 0.007*\"research\" + 0.007*\"professor\" + 0.006*\"also\" + '\n",
      "  '0.005*\"international\" + 0.005*\"institute\" + 0.005*\"school\" + '\n",
      "  '0.004*\"science\" + 0.004*\"work\" + 0.004*\"member\"'),\n",
      " (4,\n",
      "  '0.023*\"music\" + 0.007*\"orchestra\" + 0.007*\"jazz\" + 0.006*\"also\" + '\n",
      "  '0.006*\"opera\" + 0.005*\"new\" + 0.005*\"performed\" + 0.005*\"festival\" + '\n",
      "  '0.005*\"born\" + 0.004*\"band\"'),\n",
      " (5,\n",
      "  '0.013*\"film\" + 0.010*\"also\" + 0.009*\"television\" + 0.008*\"show\" + '\n",
      "  '0.007*\"series\" + 0.006*\"theatre\" + 0.005*\"award\" + 0.005*\"radio\" + '\n",
      "  '0.005*\"tv\" + 0.005*\"best\"'),\n",
      " (6,\n",
      "  '0.011*\"world\" + 0.007*\"tour\" + 0.007*\"first\" + 0.006*\"also\" + 0.006*\"th\" + '\n",
      "  '0.006*\"born\" + 0.005*\"championship\" + 0.005*\"race\" + 0.005*\"year\" + '\n",
      "  '0.005*\"finished\"'),\n",
      " (7,\n",
      "  '0.013*\"season\" + 0.012*\"played\" + 0.012*\"team\" + 0.011*\"league\" + '\n",
      "  '0.008*\"football\" + 0.008*\"first\" + 0.007*\"coach\" + 0.007*\"born\" + '\n",
      "  '0.006*\"club\" + 0.006*\"games\"'),\n",
      " (8,\n",
      "  '0.011*\"album\" + 0.008*\"music\" + 0.008*\"released\" + 0.007*\"also\" + '\n",
      "  '0.006*\"band\" + 0.006*\"first\" + 0.005*\"new\" + 0.005*\"one\" + 0.005*\"records\" '\n",
      "  '+ 0.005*\"born\"'),\n",
      " (9,\n",
      "  '0.005*\"also\" + 0.005*\"first\" + 0.004*\"one\" + 0.004*\"born\" + 0.004*\"years\" + '\n",
      "  '0.004*\"world\" + 0.003*\"radio\" + 0.003*\"time\" + 0.003*\"known\" + '\n",
      "  '0.003*\"later\"')]\n"
     ]
    }
   ],
   "source": [
    "from pprint import pprint\n",
    "# number of topics\n",
    "num_topics = 10\n",
    "# Build LDA model\n",
    "lda_model = gensim.models.LdaMulticore(corpus=corpus,\n",
    "                                       id2word=id2word,\n",
    "                                       num_topics=num_topics)\n",
    "# Print the Keyword in the 10 topics\n",
    "pprint(lda_model.print_topics())\n",
    "doc_lda = lda_model[corpus]"
   ]
  },
  {
   "cell_type": "code",
   "execution_count": 12,
   "metadata": {
    "id": "_kmC1sePmOnA"
   },
   "outputs": [],
   "source": [
    "def explore_topic(topic_number, topn=50):\n",
    "    \"\"\"\n",
    "    accept a user-supplied topic number and\n",
    "    print out a formatted list of the top terms\n",
    "    \"\"\"\n",
    "        \n",
    "    print(u'{:20} {}'.format(u'term', u'frequency') + u'\\n')\n",
    "\n",
    "    for term, frequency in lda_model.show_topic(topic_number, topn):\n",
    "        print(u'{:20} {:.3f}'.format(term, round(frequency, 3)))"
   ]
  },
  {
   "cell_type": "code",
   "execution_count": 13,
   "metadata": {
    "colab": {
     "base_uri": "https://localhost:8080/"
    },
    "id": "SFA-9-f-mOnB",
    "outputId": "e9ea8736-c311-4055-d361-bdb75a8a4f74"
   },
   "outputs": [
    {
     "name": "stdout",
     "output_type": "stream",
     "text": [
      "term                 frequency\n",
      "\n",
      "served               0.009\n",
      "united               0.007\n",
      "law                  0.007\n",
      "states               0.006\n",
      "state                0.006\n"
     ]
    }
   ],
   "source": [
    "explore_topic(1,5)"
   ]
  },
  {
   "cell_type": "markdown",
   "metadata": {
    "id": "POdJu4jUmOnC"
   },
   "source": [
    "# Identifier lesTopiques par mots-clés\n",
    "\n"
   ]
  },
  {
   "cell_type": "markdown",
   "metadata": {
    "id": "ftzhtsJomOnC"
   },
   "source": [
    "\n",
    "## Question 2: (2 pts)\n",
    "Quelle est la somme des probabilités assignées aux 50 premiers mots du troisième topique?"
   ]
  },
  {
   "cell_type": "code",
   "execution_count": 21,
   "metadata": {
    "colab": {
     "base_uri": "https://localhost:8080/"
    },
    "id": "yc5N7FtdmOnD",
    "outputId": "3cb96242-63a9-4ae9-ba7c-8be2d1f333aa"
   },
   "outputs": [
    {
     "name": "stdout",
     "output_type": "stream",
     "text": [
      "Somme des probailités des 50 premiers mots du 3ème Topic : 15.4%\n"
     ]
    }
   ],
   "source": [
    "s = 0\n",
    "for term, frequency in lda_model.show_topic(2, 50):\n",
    "  s += frequency\n",
    "print(f\"Somme des probailités des 50 premiers mots du 3ème Topic : {round(s,3)*100}%\")\n",
    "\n",
    "\n",
    "\n",
    "\n"
   ]
  },
  {
   "cell_type": "markdown",
   "metadata": {
    "id": "XPEsFKzdmOnD"
   },
   "source": [
    "Regardons les 10 premiers mots pour chaque topique pour voir si nous pouvons identifier n'importe quels thèmes:"
   ]
  },
  {
   "cell_type": "code",
   "execution_count": 36,
   "metadata": {
    "colab": {
     "base_uri": "https://localhost:8080/"
    },
    "id": "9Wa-q9-smOnE",
    "outputId": "ad5e8702-5c82-4195-b4e4-0eb637b0db94",
    "scrolled": true
   },
   "outputs": [
    {
     "name": "stdout",
     "output_type": "stream",
     "text": [
      "term                 frequency\n",
      "\n",
      "also                 0.005\n",
      "first                0.005\n",
      "one                  0.004\n",
      "born                 0.004\n",
      "years                0.004\n",
      "world                0.004\n",
      "radio                0.003\n",
      "time                 0.003\n",
      "known                0.003\n",
      "later                0.003\n"
     ]
    }
   ],
   "source": [
    "explore_topic(9, topn=10)"
   ]
  },
  {
   "cell_type": "markdown",
   "metadata": {
    "id": "ubUrAF86mOnG"
   },
   "source": [
    "Nous proposons les thèmes suivants pour chaque topique:\n",
    "\n",
    "- topic 0: Music, TV, and film\n",
    "- topic 1: Team sports\n",
    "- topic 2: Art and publishing\n",
    "- topic 3: American college and politics\n",
    "- topic 4: International athletics\n",
    "- topic 5: International music \n",
    "- topic 6: Science and research \n",
    "- topic 7: Business  \n",
    "- topic 8: Great Britain and Australia  \n",
    "- topic 9: General politics\n",
    "\n"
   ]
  },
  {
   "cell_type": "code",
   "execution_count": null,
   "metadata": {
    "collapsed": true,
    "id": "uNN1zGfemOnG"
   },
   "outputs": [],
   "source": [
    "themes = ['Art and publishing','American college and politics','General politics','Science and research','International music','Music, TV, and film', \\\n",
    "         'International athletics','Team sports','Great Britain and Australia','Business']"
   ]
  },
  {
   "cell_type": "markdown",
   "metadata": {
    "id": "LYZ3JVa4mOnG"
   },
   "source": [
    "# Distributions de topique pour certains exemples de documents\n",
    "\n",
    "\n",
    "LDA se base sur le modèle mixte, ce qui signifie que chaque document peut partiellement appartenir à plusieurs topiques différents. Pour chaque document, l'appartenance à un topic est exprimée sous la forme d'un vecteur de poids égal à un; L'importance de chaque poids indique le degré auquel le document représente ce sujet particulier.\n",
    "\n",
    "Nous allons explorer cela dans notre modèle  en examinant les distributions des topics pour quelques exemples d'articles Wikipedia de notre ensemble de données. Nous devrions trouver que ces articles ont les poids les plus élevés sur les topics dont les thèmes sont les plus important pour le topique de l'article - par exemple, nous nous attendons d'un article sur un homme de politique d'accorder un poids relativement élevé sur des topiques liés au gouvernement, un article sur un athlète devrait mettre plus de poids sur des topiques liés aux sports...\n"
   ]
  },
  {
   "cell_type": "code",
   "execution_count": 40,
   "metadata": {
    "colab": {
     "base_uri": "https://localhost:8080/"
    },
    "id": "hWKoemgvmOnH",
    "outputId": "17c46556-1ea4-478b-fdc7-215bfc95a486"
   },
   "outputs": [
    {
     "name": "stdout",
     "output_type": "stream",
     "text": [
      "['barack', 'hussein', 'obama', 'ii', 'brk', 'husen', 'bm', 'born', 'august', 'th', 'current', 'president', 'united', 'states', 'first', 'african', 'american', 'hold', 'office', 'born', 'honolulu', 'hawaii', 'obama', 'graduate', 'columbia', 'university', 'harvard', 'law', 'school', 'served']\n"
     ]
    }
   ],
   "source": [
    "obama = df [df['name'] == 'Barack Obama']\n",
    "data1 = obama.text.values.tolist()\n",
    "data_words1 = list(sent_to_words(data1))\n",
    "# remove stop words\n",
    "data_words1 = remove_stopwords(data_words1)\n",
    "print(data_words1[:1][0][:30])"
   ]
  },
  {
   "cell_type": "code",
   "execution_count": 38,
   "metadata": {
    "colab": {
     "base_uri": "https://localhost:8080/"
    },
    "id": "KhxZSpywmOnH",
    "outputId": "95177b87-f336-4fc9-b21a-121ece5e58aa"
   },
   "outputs": [
    {
     "data": {
      "text/plain": [
       "[(1, 0.56757617), (2, 0.4298837)]"
      ]
     },
     "execution_count": 38,
     "metadata": {
      "tags": []
     },
     "output_type": "execute_result"
    }
   ],
   "source": [
    "   \n",
    "id2word1 = corpora.Dictionary(data_words1)\n",
    "# Create Corpus\n",
    "texts1 = data_words1\n",
    "# Term Document Frequency\n",
    "corpus1 = [id2word.doc2bow(text) for text in texts1]\n",
    "vect=lda_model[corpus1]\n",
    "\n",
    "vect[0] "
   ]
  },
  {
   "cell_type": "markdown",
   "metadata": {
    "id": "nOkWVUAlmOnI"
   },
   "source": [
    "\n",
    "## Question 3: (3 pts)\n",
    "\n",
    "Quel est le topique le plus étroitement lié à l'article sur l'ancien président américain George W. Bush? "
   ]
  },
  {
   "cell_type": "code",
   "execution_count": 67,
   "metadata": {
    "colab": {
     "base_uri": "https://localhost:8080/"
    },
    "id": "rhbxPMUcmOnI",
    "outputId": "3ae60f49-2e61-49c5-d999-a09efa13c55a"
   },
   "outputs": [
    {
     "name": "stdout",
     "output_type": "stream",
     "text": [
      "Le topique le plus étroitement lié à l'article sur l'ancien président américain George W. Bush : (2, 0.558163)\n"
     ]
    }
   ],
   "source": [
    "bush = df [df['name'] == 'George W. Bush']\n",
    "data2 = bush.text.values.tolist()\n",
    "data_words2 = list(sent_to_words(data2))\n",
    "\n",
    "data_words2 = remove_stopwords(data_words2)\n",
    "\n",
    "id2word2 = corpora.Dictionary(data_words2)\n",
    "\n",
    "texts2 = data_words2\n",
    "\n",
    "corpus2 = [id2word.doc2bow(text) for text in texts2]\n",
    "vect=lda_model[corpus2]\n",
    "\n",
    "vect[0]\n",
    "def getMaxFreq(dictionary):\n",
    "    max_value = max(dictionary.values())\n",
    "    max_word = ''\n",
    "    for word, freq in dictionary.items():\n",
    "        if freq == max_value:\n",
    "            max_word = word\n",
    "    return max_word, max_value\n",
    "\n",
    "\n",
    "\n",
    "print(f\"Le topique le plus étroitement lié à l'article sur l'ancien président américain George W. Bush : {getMaxFreq(dict(vect[0]))}\" )\n",
    "\n",
    "\n",
    "\n",
    "\n"
   ]
  },
  {
   "cell_type": "code",
   "execution_count": null,
   "metadata": {
    "id": "DH-rrFOymOnI"
   },
   "outputs": [],
   "source": [
    "import pyLDAvis.gensim\n",
    "import pickle \n",
    "import pyLDAvis\n",
    "# Visualize the topics\n",
    "pyLDAvis.enable_notebook()\n",
    "\n",
    "LDAvis_prepared = pyLDAvis.gensim.prepare(lda_model, corpus, id2word)\n",
    "    \n",
    "LDAvis_prepared"
   ]
  }
 ],
 "metadata": {
  "colab": {
   "collapsed_sections": [],
   "name": "TP3_Lda2.ipynb",
   "provenance": []
  },
  "kernelspec": {
   "display_name": "Python 3",
   "language": "python",
   "name": "python3"
  },
  "language_info": {
   "codemirror_mode": {
    "name": "ipython",
    "version": 3
   },
   "file_extension": ".py",
   "mimetype": "text/x-python",
   "name": "python",
   "nbconvert_exporter": "python",
   "pygments_lexer": "ipython3",
   "version": "3.8.5"
  }
 },
 "nbformat": 4,
 "nbformat_minor": 1
}
